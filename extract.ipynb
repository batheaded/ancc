{
 "cells": [
  {
   "cell_type": "code",
   "execution_count": 13,
   "metadata": {},
   "outputs": [],
   "source": [
    "import cv2\n",
    "import math"
   ]
  },
  {
   "cell_type": "code",
   "execution_count": 14,
   "metadata": {},
   "outputs": [],
   "source": [
    "input_folder = \"input/\"\n",
    "output_folder = \"output/\""
   ]
  },
  {
   "cell_type": "code",
   "execution_count": 15,
   "metadata": {},
   "outputs": [],
   "source": [
    "video_file = \"The Dark Knight's First Night (1992).mp4\"\n",
    "video_capture = cv2.VideoCapture(input_folder + video_file)\n",
    "frame_rate = video_capture.get(5)\n",
    "success, image = video_capture.read()\n",
    "\n",
    "count = 1\n",
    "while success:\n",
    "    frame_id = video_capture.get(1)\n",
    "    if (frame_id % math.floor(frame_rate) == 0):\n",
    "        cv2.imwrite(output_folder + video_file + \" [%d].jpg\" % count, image)\n",
    "    \n",
    "    success, image = video_capture.read()\n",
    "    count += 1"
   ]
  }
 ],
 "metadata": {
  "kernelspec": {
   "display_name": "Python 3.10.4 64-bit",
   "language": "python",
   "name": "python3"
  },
  "language_info": {
   "codemirror_mode": {
    "name": "ipython",
    "version": 3
   },
   "file_extension": ".py",
   "mimetype": "text/x-python",
   "name": "python",
   "nbconvert_exporter": "python",
   "pygments_lexer": "ipython3",
   "version": "3.10.4"
  },
  "orig_nbformat": 4,
  "vscode": {
   "interpreter": {
    "hash": "e7370f93d1d0cde622a1f8e1c04877d8463912d04d973331ad4851f04de6915a"
   }
  }
 },
 "nbformat": 4,
 "nbformat_minor": 2
}
