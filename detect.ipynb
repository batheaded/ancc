{
 "cells": [
  {
   "cell_type": "code",
   "execution_count": 4,
   "metadata": {},
   "outputs": [
    {
     "ename": "ValueError",
     "evalue": "saved_model_path must be the valid directory of a saved model to load.",
     "output_type": "error",
     "traceback": [
      "\u001b[0;31m---------------------------------------------------------------------------\u001b[0m",
      "\u001b[0;31mValueError\u001b[0m                                Traceback (most recent call last)",
      "\u001b[1;32m/run/media/cassius/BCDEBDFBDEBDAE50/[Documents]/ancc/detect.ipynb Cell 1'\u001b[0m in \u001b[0;36m<cell line: 2>\u001b[0;34m()\u001b[0m\n\u001b[1;32m      <a href='vscode-notebook-cell:/run/media/cassius/BCDEBDFBDEBDAE50/%5BDocuments%5D/ancc/detect.ipynb#ch0000000?line=0'>1</a>\u001b[0m \u001b[39mfrom\u001b[39;00m \u001b[39mnsfw_model\u001b[39;00m\u001b[39m.\u001b[39;00m\u001b[39mnsfw_detector\u001b[39;00m \u001b[39mimport\u001b[39;00m predict\n\u001b[0;32m----> <a href='vscode-notebook-cell:/run/media/cassius/BCDEBDFBDEBDAE50/%5BDocuments%5D/ancc/detect.ipynb#ch0000000?line=1'>2</a>\u001b[0m model \u001b[39m=\u001b[39m predict\u001b[39m.\u001b[39;49mload_model(\u001b[39m'\u001b[39;49m\u001b[39m./mobilenet_v2_140_224/saved_model.h5\u001b[39;49m\u001b[39m'\u001b[39;49m)\n\u001b[1;32m      <a href='vscode-notebook-cell:/run/media/cassius/BCDEBDFBDEBDAE50/%5BDocuments%5D/ancc/detect.ipynb#ch0000000?line=3'>4</a>\u001b[0m predict\u001b[39m.\u001b[39mclassify(model, \u001b[39m'\u001b[39m\u001b[39mimg.jpg\u001b[39m\u001b[39m'\u001b[39m)\n",
      "File \u001b[0;32m/run/media/cassius/BCDEBDFBDEBDAE50/[Documents]/ancc/nsfw_model/nsfw_detector/predict.py:54\u001b[0m, in \u001b[0;36mload_model\u001b[0;34m(model_path)\u001b[0m\n\u001b[1;32m     <a href='file:///run/media/cassius/BCDEBDFBDEBDAE50/%5BDocuments%5D/ancc/nsfw_model/nsfw_detector/predict.py?line=51'>52</a>\u001b[0m \u001b[39mdef\u001b[39;00m \u001b[39mload_model\u001b[39m(model_path):\n\u001b[1;32m     <a href='file:///run/media/cassius/BCDEBDFBDEBDAE50/%5BDocuments%5D/ancc/nsfw_model/nsfw_detector/predict.py?line=52'>53</a>\u001b[0m     \u001b[39mif\u001b[39;00m model_path \u001b[39mis\u001b[39;00m \u001b[39mNone\u001b[39;00m \u001b[39mor\u001b[39;00m \u001b[39mnot\u001b[39;00m exists(model_path):\n\u001b[0;32m---> <a href='file:///run/media/cassius/BCDEBDFBDEBDAE50/%5BDocuments%5D/ancc/nsfw_model/nsfw_detector/predict.py?line=53'>54</a>\u001b[0m     \t\u001b[39mraise\u001b[39;00m \u001b[39mValueError\u001b[39;00m(\u001b[39m\"\u001b[39m\u001b[39msaved_model_path must be the valid directory of a saved model to load.\u001b[39m\u001b[39m\"\u001b[39m)\n\u001b[1;32m     <a href='file:///run/media/cassius/BCDEBDFBDEBDAE50/%5BDocuments%5D/ancc/nsfw_model/nsfw_detector/predict.py?line=55'>56</a>\u001b[0m     model \u001b[39m=\u001b[39m tf\u001b[39m.\u001b[39mkeras\u001b[39m.\u001b[39mmodels\u001b[39m.\u001b[39mload_model(model_path, custom_objects\u001b[39m=\u001b[39m{\u001b[39m'\u001b[39m\u001b[39mKerasLayer\u001b[39m\u001b[39m'\u001b[39m: hub\u001b[39m.\u001b[39mKerasLayer},\u001b[39mcompile\u001b[39m\u001b[39m=\u001b[39m\u001b[39mFalse\u001b[39;00m)\n\u001b[1;32m     <a href='file:///run/media/cassius/BCDEBDFBDEBDAE50/%5BDocuments%5D/ancc/nsfw_model/nsfw_detector/predict.py?line=56'>57</a>\u001b[0m     \u001b[39mreturn\u001b[39;00m model\n",
      "\u001b[0;31mValueError\u001b[0m: saved_model_path must be the valid directory of a saved model to load."
     ]
    }
   ],
   "source": [
    "from nsfw_model.nsfw_detector import predict\n",
    "model = predict.load_model('./mobilenet_v2_140_224/saved_model.h5')\n",
    "\n",
    "predict.classify(model, 'img.jpg')"
   ]
  }
 ],
 "metadata": {
  "kernelspec": {
   "display_name": "Python 3.10.4 64-bit",
   "language": "python",
   "name": "python3"
  },
  "language_info": {
   "codemirror_mode": {
    "name": "ipython",
    "version": 3
   },
   "file_extension": ".py",
   "mimetype": "text/x-python",
   "name": "python",
   "nbconvert_exporter": "python",
   "pygments_lexer": "ipython3",
   "version": "3.10.4"
  },
  "orig_nbformat": 4,
  "vscode": {
   "interpreter": {
    "hash": "e7370f93d1d0cde622a1f8e1c04877d8463912d04d973331ad4851f04de6915a"
   }
  }
 },
 "nbformat": 4,
 "nbformat_minor": 2
}
